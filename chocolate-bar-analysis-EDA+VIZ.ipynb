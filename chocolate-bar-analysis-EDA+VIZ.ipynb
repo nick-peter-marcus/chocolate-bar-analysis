{
 "cells": [
  {
   "attachments": {},
   "cell_type": "markdown",
   "metadata": {},
   "source": [
    "## Chocolate Bar Analysis"
   ]
  },
  {
   "cell_type": "code",
   "execution_count": 1,
   "metadata": {},
   "outputs": [],
   "source": [
    "# Import Libraries\n",
    "import numpy as np\n",
    "import pandas as pd \n",
    "import matplotlib.pyplot as plt\n",
    "import seaborn as sns"
   ]
  },
  {
   "attachments": {},
   "cell_type": "markdown",
   "metadata": {},
   "source": [
    "# Data Exploration"
   ]
  },
  {
   "cell_type": "code",
   "execution_count": 2,
   "metadata": {},
   "outputs": [
    {
     "ename": "FileNotFoundError",
     "evalue": "[Errno 2] No such file or directory: 'C:/Users/nickm/Desktop/Coding/Projects/python-pandas-project/Chocolate bar ratings 2022.csv'",
     "output_type": "error",
     "traceback": [
      "\u001b[1;31m---------------------------------------------------------------------------\u001b[0m",
      "\u001b[1;31mFileNotFoundError\u001b[0m                         Traceback (most recent call last)",
      "Cell \u001b[1;32mIn[2], line 2\u001b[0m\n\u001b[0;32m      1\u001b[0m \u001b[39m# Import data and dispaly first rows\u001b[39;00m\n\u001b[1;32m----> 2\u001b[0m df \u001b[39m=\u001b[39m pd\u001b[39m.\u001b[39;49mread_csv(\u001b[39m'\u001b[39;49m\u001b[39mC:/Users/nickm/Desktop/Coding/Projects/python-pandas-project/Chocolate bar ratings 2022.csv\u001b[39;49m\u001b[39m'\u001b[39;49m)\n\u001b[0;32m      3\u001b[0m df\u001b[39m.\u001b[39mhead()\n",
      "File \u001b[1;32mc:\\Users\\nickm\\AppData\\Local\\Programs\\Python\\Python311\\Lib\\site-packages\\pandas\\io\\parsers\\readers.py:912\u001b[0m, in \u001b[0;36mread_csv\u001b[1;34m(filepath_or_buffer, sep, delimiter, header, names, index_col, usecols, dtype, engine, converters, true_values, false_values, skipinitialspace, skiprows, skipfooter, nrows, na_values, keep_default_na, na_filter, verbose, skip_blank_lines, parse_dates, infer_datetime_format, keep_date_col, date_parser, date_format, dayfirst, cache_dates, iterator, chunksize, compression, thousands, decimal, lineterminator, quotechar, quoting, doublequote, escapechar, comment, encoding, encoding_errors, dialect, on_bad_lines, delim_whitespace, low_memory, memory_map, float_precision, storage_options, dtype_backend)\u001b[0m\n\u001b[0;32m    899\u001b[0m kwds_defaults \u001b[39m=\u001b[39m _refine_defaults_read(\n\u001b[0;32m    900\u001b[0m     dialect,\n\u001b[0;32m    901\u001b[0m     delimiter,\n\u001b[1;32m   (...)\u001b[0m\n\u001b[0;32m    908\u001b[0m     dtype_backend\u001b[39m=\u001b[39mdtype_backend,\n\u001b[0;32m    909\u001b[0m )\n\u001b[0;32m    910\u001b[0m kwds\u001b[39m.\u001b[39mupdate(kwds_defaults)\n\u001b[1;32m--> 912\u001b[0m \u001b[39mreturn\u001b[39;00m _read(filepath_or_buffer, kwds)\n",
      "File \u001b[1;32mc:\\Users\\nickm\\AppData\\Local\\Programs\\Python\\Python311\\Lib\\site-packages\\pandas\\io\\parsers\\readers.py:577\u001b[0m, in \u001b[0;36m_read\u001b[1;34m(filepath_or_buffer, kwds)\u001b[0m\n\u001b[0;32m    574\u001b[0m _validate_names(kwds\u001b[39m.\u001b[39mget(\u001b[39m\"\u001b[39m\u001b[39mnames\u001b[39m\u001b[39m\"\u001b[39m, \u001b[39mNone\u001b[39;00m))\n\u001b[0;32m    576\u001b[0m \u001b[39m# Create the parser.\u001b[39;00m\n\u001b[1;32m--> 577\u001b[0m parser \u001b[39m=\u001b[39m TextFileReader(filepath_or_buffer, \u001b[39m*\u001b[39;49m\u001b[39m*\u001b[39;49mkwds)\n\u001b[0;32m    579\u001b[0m \u001b[39mif\u001b[39;00m chunksize \u001b[39mor\u001b[39;00m iterator:\n\u001b[0;32m    580\u001b[0m     \u001b[39mreturn\u001b[39;00m parser\n",
      "File \u001b[1;32mc:\\Users\\nickm\\AppData\\Local\\Programs\\Python\\Python311\\Lib\\site-packages\\pandas\\io\\parsers\\readers.py:1407\u001b[0m, in \u001b[0;36mTextFileReader.__init__\u001b[1;34m(self, f, engine, **kwds)\u001b[0m\n\u001b[0;32m   1404\u001b[0m     \u001b[39mself\u001b[39m\u001b[39m.\u001b[39moptions[\u001b[39m\"\u001b[39m\u001b[39mhas_index_names\u001b[39m\u001b[39m\"\u001b[39m] \u001b[39m=\u001b[39m kwds[\u001b[39m\"\u001b[39m\u001b[39mhas_index_names\u001b[39m\u001b[39m\"\u001b[39m]\n\u001b[0;32m   1406\u001b[0m \u001b[39mself\u001b[39m\u001b[39m.\u001b[39mhandles: IOHandles \u001b[39m|\u001b[39m \u001b[39mNone\u001b[39;00m \u001b[39m=\u001b[39m \u001b[39mNone\u001b[39;00m\n\u001b[1;32m-> 1407\u001b[0m \u001b[39mself\u001b[39m\u001b[39m.\u001b[39m_engine \u001b[39m=\u001b[39m \u001b[39mself\u001b[39;49m\u001b[39m.\u001b[39;49m_make_engine(f, \u001b[39mself\u001b[39;49m\u001b[39m.\u001b[39;49mengine)\n",
      "File \u001b[1;32mc:\\Users\\nickm\\AppData\\Local\\Programs\\Python\\Python311\\Lib\\site-packages\\pandas\\io\\parsers\\readers.py:1661\u001b[0m, in \u001b[0;36mTextFileReader._make_engine\u001b[1;34m(self, f, engine)\u001b[0m\n\u001b[0;32m   1659\u001b[0m     \u001b[39mif\u001b[39;00m \u001b[39m\"\u001b[39m\u001b[39mb\u001b[39m\u001b[39m\"\u001b[39m \u001b[39mnot\u001b[39;00m \u001b[39min\u001b[39;00m mode:\n\u001b[0;32m   1660\u001b[0m         mode \u001b[39m+\u001b[39m\u001b[39m=\u001b[39m \u001b[39m\"\u001b[39m\u001b[39mb\u001b[39m\u001b[39m\"\u001b[39m\n\u001b[1;32m-> 1661\u001b[0m \u001b[39mself\u001b[39m\u001b[39m.\u001b[39mhandles \u001b[39m=\u001b[39m get_handle(\n\u001b[0;32m   1662\u001b[0m     f,\n\u001b[0;32m   1663\u001b[0m     mode,\n\u001b[0;32m   1664\u001b[0m     encoding\u001b[39m=\u001b[39;49m\u001b[39mself\u001b[39;49m\u001b[39m.\u001b[39;49moptions\u001b[39m.\u001b[39;49mget(\u001b[39m\"\u001b[39;49m\u001b[39mencoding\u001b[39;49m\u001b[39m\"\u001b[39;49m, \u001b[39mNone\u001b[39;49;00m),\n\u001b[0;32m   1665\u001b[0m     compression\u001b[39m=\u001b[39;49m\u001b[39mself\u001b[39;49m\u001b[39m.\u001b[39;49moptions\u001b[39m.\u001b[39;49mget(\u001b[39m\"\u001b[39;49m\u001b[39mcompression\u001b[39;49m\u001b[39m\"\u001b[39;49m, \u001b[39mNone\u001b[39;49;00m),\n\u001b[0;32m   1666\u001b[0m     memory_map\u001b[39m=\u001b[39;49m\u001b[39mself\u001b[39;49m\u001b[39m.\u001b[39;49moptions\u001b[39m.\u001b[39;49mget(\u001b[39m\"\u001b[39;49m\u001b[39mmemory_map\u001b[39;49m\u001b[39m\"\u001b[39;49m, \u001b[39mFalse\u001b[39;49;00m),\n\u001b[0;32m   1667\u001b[0m     is_text\u001b[39m=\u001b[39;49mis_text,\n\u001b[0;32m   1668\u001b[0m     errors\u001b[39m=\u001b[39;49m\u001b[39mself\u001b[39;49m\u001b[39m.\u001b[39;49moptions\u001b[39m.\u001b[39;49mget(\u001b[39m\"\u001b[39;49m\u001b[39mencoding_errors\u001b[39;49m\u001b[39m\"\u001b[39;49m, \u001b[39m\"\u001b[39;49m\u001b[39mstrict\u001b[39;49m\u001b[39m\"\u001b[39;49m),\n\u001b[0;32m   1669\u001b[0m     storage_options\u001b[39m=\u001b[39;49m\u001b[39mself\u001b[39;49m\u001b[39m.\u001b[39;49moptions\u001b[39m.\u001b[39;49mget(\u001b[39m\"\u001b[39;49m\u001b[39mstorage_options\u001b[39;49m\u001b[39m\"\u001b[39;49m, \u001b[39mNone\u001b[39;49;00m),\n\u001b[0;32m   1670\u001b[0m )\n\u001b[0;32m   1671\u001b[0m \u001b[39massert\u001b[39;00m \u001b[39mself\u001b[39m\u001b[39m.\u001b[39mhandles \u001b[39mis\u001b[39;00m \u001b[39mnot\u001b[39;00m \u001b[39mNone\u001b[39;00m\n\u001b[0;32m   1672\u001b[0m f \u001b[39m=\u001b[39m \u001b[39mself\u001b[39m\u001b[39m.\u001b[39mhandles\u001b[39m.\u001b[39mhandle\n",
      "File \u001b[1;32mc:\\Users\\nickm\\AppData\\Local\\Programs\\Python\\Python311\\Lib\\site-packages\\pandas\\io\\common.py:859\u001b[0m, in \u001b[0;36mget_handle\u001b[1;34m(path_or_buf, mode, encoding, compression, memory_map, is_text, errors, storage_options)\u001b[0m\n\u001b[0;32m    854\u001b[0m \u001b[39melif\u001b[39;00m \u001b[39misinstance\u001b[39m(handle, \u001b[39mstr\u001b[39m):\n\u001b[0;32m    855\u001b[0m     \u001b[39m# Check whether the filename is to be opened in binary mode.\u001b[39;00m\n\u001b[0;32m    856\u001b[0m     \u001b[39m# Binary mode does not support 'encoding' and 'newline'.\u001b[39;00m\n\u001b[0;32m    857\u001b[0m     \u001b[39mif\u001b[39;00m ioargs\u001b[39m.\u001b[39mencoding \u001b[39mand\u001b[39;00m \u001b[39m\"\u001b[39m\u001b[39mb\u001b[39m\u001b[39m\"\u001b[39m \u001b[39mnot\u001b[39;00m \u001b[39min\u001b[39;00m ioargs\u001b[39m.\u001b[39mmode:\n\u001b[0;32m    858\u001b[0m         \u001b[39m# Encoding\u001b[39;00m\n\u001b[1;32m--> 859\u001b[0m         handle \u001b[39m=\u001b[39m \u001b[39mopen\u001b[39;49m(\n\u001b[0;32m    860\u001b[0m             handle,\n\u001b[0;32m    861\u001b[0m             ioargs\u001b[39m.\u001b[39;49mmode,\n\u001b[0;32m    862\u001b[0m             encoding\u001b[39m=\u001b[39;49mioargs\u001b[39m.\u001b[39;49mencoding,\n\u001b[0;32m    863\u001b[0m             errors\u001b[39m=\u001b[39;49merrors,\n\u001b[0;32m    864\u001b[0m             newline\u001b[39m=\u001b[39;49m\u001b[39m\"\u001b[39;49m\u001b[39m\"\u001b[39;49m,\n\u001b[0;32m    865\u001b[0m         )\n\u001b[0;32m    866\u001b[0m     \u001b[39melse\u001b[39;00m:\n\u001b[0;32m    867\u001b[0m         \u001b[39m# Binary mode\u001b[39;00m\n\u001b[0;32m    868\u001b[0m         handle \u001b[39m=\u001b[39m \u001b[39mopen\u001b[39m(handle, ioargs\u001b[39m.\u001b[39mmode)\n",
      "\u001b[1;31mFileNotFoundError\u001b[0m: [Errno 2] No such file or directory: 'C:/Users/nickm/Desktop/Coding/Projects/python-pandas-project/Chocolate bar ratings 2022.csv'"
     ]
    }
   ],
   "source": [
    "# Import data and dispaly first rows\n",
    "df = pd.read_csv('C:/Users/nickm/Desktop/Coding/Projects/chocolate-bar-analysis/Chocolate bar ratings 2022.csv')\n",
    "df.head()"
   ]
  },
  {
   "cell_type": "code",
   "execution_count": null,
   "metadata": {},
   "outputs": [],
   "source": [
    "# Display DataFrame summary\n",
    "df.info()"
   ]
  },
  {
   "cell_type": "code",
   "execution_count": null,
   "metadata": {},
   "outputs": [],
   "source": [
    "# Print descriptive statistics of numerical columns\n",
    "df.describe()"
   ]
  },
  {
   "cell_type": "code",
   "execution_count": null,
   "metadata": {},
   "outputs": [],
   "source": [
    "# Count unique values in each column\n",
    "df.nunique()"
   ]
  },
  {
   "cell_type": "code",
   "execution_count": null,
   "metadata": {},
   "outputs": [],
   "source": [
    "# Display number of NAs for each column\n",
    "df.isna().sum()"
   ]
  },
  {
   "cell_type": "code",
   "execution_count": null,
   "metadata": {},
   "outputs": [],
   "source": [
    "# Show rows with NAs in 'Ingredients'\n",
    "df[df['Ingredients'].isna()].head()"
   ]
  },
  {
   "cell_type": "code",
   "execution_count": null,
   "metadata": {},
   "outputs": [],
   "source": [
    "# drop NA\n",
    "df = df.dropna()"
   ]
  },
  {
   "cell_type": "code",
   "execution_count": null,
   "metadata": {},
   "outputs": [],
   "source": [
    "# show 5 most frequent values for each column\n",
    "for col in df.columns:\n",
    "    print(df[col].value_counts().head())"
   ]
  },
  {
   "attachments": {},
   "cell_type": "markdown",
   "metadata": {},
   "source": [
    "# Recodes"
   ]
  },
  {
   "attachments": {},
   "cell_type": "markdown",
   "metadata": {},
   "source": [
    "### Rating - Categories"
   ]
  },
  {
   "cell_type": "code",
   "execution_count": null,
   "metadata": {},
   "outputs": [],
   "source": [
    "# From Author: \"The ratings are between 1 and 5 with 1 considered the lowest rating and 5 as the highest rating possible.\"\n",
    "    # 4.0 - 5.0 = Outstanding\n",
    "    # 3.5 - 3.9 = Highly Recommended\n",
    "    # 3.0 - 3.49 = Recommended\n",
    "    # 2.0 - 2.9 = Disappointing\n",
    "    # 1.0 - 1.9 = Unpleasant\n",
    "print(df['Rating'].unique())\n",
    "\n",
    "def rating_fun(rating):\n",
    "    if rating >= 4:\n",
    "        return 'Outstanding'\n",
    "    elif rating >= 3.5:\n",
    "        return 'Highly Recommended'\n",
    "    elif rating >= 3:\n",
    "        return 'Recommended'\n",
    "    elif rating >= 2.0:\n",
    "        return 'Disappointing'\n",
    "    else:\n",
    "        return 'Unpleasant'\n",
    "    \n",
    "df['Rating Categories'] = df['Rating'].apply(rating_fun)\n",
    "\n",
    "print(df['Rating Categories'].value_counts())\n",
    "print(pd.crosstab(df['Rating'], df['Rating Categories']))"
   ]
  },
  {
   "attachments": {},
   "cell_type": "markdown",
   "metadata": {},
   "source": [
    "### Cacoa Content - Categories"
   ]
  },
  {
   "cell_type": "code",
   "execution_count": null,
   "metadata": {},
   "outputs": [],
   "source": [
    "print(df['Cocoa Percent'].unique()[:5])\n",
    "print(df['Cocoa Percent'].value_counts().head())\n",
    "\n",
    "df['Cocoa Percent - Numerical'] = df['Cocoa Percent'].str[:-1].astype(float)\n",
    "print(df['Cocoa Percent - Numerical'].describe())\n",
    "\n",
    "def cococa_fun(cocoa_perc):\n",
    "    if cocoa_perc >= 90:\n",
    "        return '> 90%'\n",
    "    elif cocoa_perc >= 80:\n",
    "        return '80-89%'\n",
    "    elif cocoa_perc >= 70:\n",
    "        return '70-79%'\n",
    "    elif cocoa_perc >= 60:\n",
    "        return '60-69%'\n",
    "    elif cocoa_perc >= 50:\n",
    "        return '50-59%'\n",
    "    else:\n",
    "        return '< 50%'\n",
    "    \n",
    "df['Cocoa Percent - Categories'] = df['Cocoa Percent - Numerical'].apply(cococa_fun)\n",
    "\n",
    "print(df['Cocoa Percent - Categories'].value_counts())"
   ]
  },
  {
   "attachments": {},
   "cell_type": "markdown",
   "metadata": {},
   "source": [
    "### Ingredients - Number and Type of"
   ]
  },
  {
   "cell_type": "code",
   "execution_count": null,
   "metadata": {},
   "outputs": [],
   "source": [
    "print(df['Ingredients'].value_counts().head())\n",
    "# In total, 7 different ingredients occur: B, S, S*, C, V, L, Sa\n",
    "\n",
    "# Split 'Ingredients' column at '-' into No. of and List of Ingredients\n",
    "# e.g.: '6-B,S,C,V,L,Sa' -> ['6', 'B,S,C,V,L,Sa']\n",
    "df['Number of Ingredients'] = df['Ingredients'].str.split('-').apply(pd.Series)[0]\n",
    "df['List of Ingredients'] = df['Ingredients'].str.split('-').apply(pd.Series)[1].str.strip()\n",
    "\n",
    "# Expand occuring ingredients into 6 columns in order of appearance\n",
    "# e.g. 'B,S,V' -> ['B', 'S', 'V', None, None, None]\n",
    "ls_ingredients = df['List of Ingredients'].str.split(',').apply(pd.Series)\n",
    "for col_nr, col in enumerate(ls_ingredients):\n",
    "    df[f'Ingredient #{col_nr+1}'] = ls_ingredients[col_nr]\n",
    "\n",
    "# Create a column for each ingredient indicating whether it's present in the chocolate bar\n",
    "# e.g. 'B,S,V' -> [True, True, False, False, False, True, False]\n",
    "unique_ingredients = ['B', 'S', 'S*', 'C', 'V', 'L', 'Sa']\n",
    "\n",
    "def ingr_fun(cols, ingr):\n",
    "    if cols.notna().sum() == 0:\n",
    "        return np.NAN\n",
    "    else:\n",
    "        return (cols == ingr).sum() > 0\n",
    "\n",
    "for i in unique_ingredients:\n",
    "    #df[f'Ingredient {i}'] = df.filter(like='Ingredient #').apply(lambda x: np.NAN if x.notna().sum() == 0 else (x == i).sum() > 0, axis=1)\n",
    "    df[f'Ingredient {i}'] = df.filter(like='Ingredient #').apply(ingr_fun, ingr=i, axis=1)\n",
    "\n",
    "print('\\nIngredient Count:\\n', df.loc[:,'Ingredient B':'Ingredient Sa'].astype('boolean').sum())\n"
   ]
  },
  {
   "attachments": {},
   "cell_type": "markdown",
   "metadata": {},
   "source": [
    "### Most Memorable Characteristics - Number and Type of"
   ]
  },
  {
   "cell_type": "code",
   "execution_count": null,
   "metadata": {},
   "outputs": [],
   "source": [
    "#print(df['Most Memorable Characteristics'].value_counts().head())\n",
    "# exemplary format: 'spicy, cocoa', 'sandy, sweet, cocoa'\n",
    "\n",
    "# split characteristics into columns\n",
    "characts = df['Most Memorable Characteristics'].str.split(',').apply(lambda x: [e.strip() for e in x]).apply(pd.Series)\n",
    "for col_nr, col in enumerate(characts):\n",
    "    df[f'Characteristic #{col_nr+1}'] = characts[col_nr]\n",
    "\n",
    "# create a list with all mentioned characteristics\n",
    "ls_characts = []\n",
    "for col in range(len(characts.columns)):\n",
    "    ls_characts.extend(characts.loc[characts[col].notna()][col].to_list())\n",
    "\n",
    "all_charact_counts = pd.DataFrame(ls_characts).value_counts().rename_axis('charact').reset_index(name='counts')\n",
    "#print(all_charact_counts[:20])\n",
    "top_characts = all_charact_counts[:20]['charact'].tolist()\n",
    "\n",
    "for i in top_characts:\n",
    "    df[f'Characteristic - {i}'] = df['Most Memorable Characteristics'].apply(lambda x: i in x)\n",
    "\n",
    "# Check results\n",
    "print(all_charact_counts[:20].head())\n",
    "print(df.filter(like='Characteristic - ').sum().head())\n",
    "\n",
    "# Counts differ e.g. 'sweet': n=276 in all_charact_counts vs. n=324 in column 'Characteristic - sweet'\n",
    "print(all_charact_counts[all_charact_counts['charact'].str.contains('sweet')].head())\n",
    "# Reason: there are entries not solely containing the attribute 'sweet' but slightly more \n",
    "#  specific evaluation, e.g. 'very sweet', 'too sweet'\n",
    "print('Number of unique characteristics containing the word \"cocoa\":',\n",
    "      len(all_charact_counts[all_charact_counts['charact'].str.contains('cocoa')]))\n",
    "# Looking at 'cocoa', there are 51 unique evaluations containing this word, e.g. 'rich cocoa', \n",
    "# 'sweet cocoa',... This way of computation should be fine, as e.g. 'sweet cocoa' can certainly \n",
    "# be associated with both 'sweet' and 'cocoa', while 'very sweet' is still 'sweet'."
   ]
  },
  {
   "attachments": {},
   "cell_type": "markdown",
   "metadata": {},
   "source": [
    "# Data Visualization: Variable Distribution and Rating Means"
   ]
  },
  {
   "attachments": {},
   "cell_type": "markdown",
   "metadata": {},
   "source": [
    "### Ratings and Sampling Activity"
   ]
  },
  {
   "cell_type": "code",
   "execution_count": null,
   "metadata": {},
   "outputs": [],
   "source": [
    "fig, axs = plt.subplots(figsize=(12, 3), ncols=3)\n",
    "\n",
    "# Rating Numeric\n",
    "sns.countplot(data=df, x='Rating', ax=axs[0])\n",
    "# draw mean (~3.2, which is between x-point 7 (=3.0) and 8 (=3.25))\n",
    "axs[0].axvline(7.8)\n",
    "\n",
    "# Rating Categories\n",
    "rating_cats = ['Unpleasant', 'Disappointing', 'Recommended', 'Highly Recommended', 'Outstanding']\n",
    "sns.countplot(data=df, x='Rating Categories', ax=axs[1], order=rating_cats)\n",
    "\n",
    "# Review Date\n",
    "rd_mean = df.groupby('Review Date')['Rating'].mean().to_frame()\n",
    "rd_mean['Count'] = df['Review Date'].value_counts()\n",
    "# Rating Means as second axis\n",
    "ax2_1 = axs[2].twinx()\n",
    "sns.countplot(data=df, x='Review Date', ax=axs[2])\n",
    "sns.stripplot(x=rd_mean.index, y=rd_mean['Rating'], ax=ax2_1)\n",
    "ax2_1.set_ylim(1,5)\n",
    "ax2_1.axhline(df['Rating'].mean());\n",
    "\n",
    "for i in range(len(axs)):\n",
    "    axs[i].set_xticklabels(axs[i].get_xticklabels(), rotation=45, horizontalalignment='right')\n"
   ]
  },
  {
   "attachments": {},
   "cell_type": "markdown",
   "metadata": {},
   "source": [
    "### Manufacturer and bean origin (top 20)"
   ]
  },
  {
   "cell_type": "code",
   "execution_count": null,
   "metadata": {},
   "outputs": [],
   "source": [
    "fig, axs = plt.subplots(figsize=(18, 9), ncols=2)\n",
    "\n",
    "vars = ['Company Location', 'Country of Bean Origin']\n",
    "\n",
    "for nr, var in enumerate(vars):\n",
    "    # count country occurence and store top 20\n",
    "    var_count = df[var].value_counts().head(20).to_frame()\n",
    "    \n",
    "    # get the aggregated mean for the top 20 countries\n",
    "    var_means_ls = []\n",
    "    for i in var_count.index:\n",
    "        var_means_ls.append(df[df[var] == i]['Rating'].mean())\n",
    "    var_count['mean'] = var_means_ls\n",
    "\n",
    "    # Plot\n",
    "    sns.barplot(x=var_count['count'], y=var_count.index, ax=axs[nr]).set_title(var, fontdict={'size': 15})\n",
    "    axs2 = axs[nr].twiny()\n",
    "    sns.stripplot(x=var_count['mean'], y=var_count.index, ax=axs2)\n",
    "    axs2.set_xlim(1,5)\n",
    "    axs2.axvline(df['Rating'].mean())\n",
    "    axs[nr].bar_label(axs[nr].containers[0], labels=var_count['count'])\n",
    "    axs[nr].set(ylabel=None)\n"
   ]
  },
  {
   "attachments": {},
   "cell_type": "markdown",
   "metadata": {},
   "source": [
    "### Cocoa Percent"
   ]
  },
  {
   "cell_type": "code",
   "execution_count": null,
   "metadata": {},
   "outputs": [],
   "source": [
    "fig, axs = plt.subplots(figsize=(18, 6), ncols=2)\n",
    "\n",
    "# Cocoa Percent - Numerical\n",
    "cpn_count = df['Cocoa Percent - Numerical'].value_counts().to_frame()\n",
    "cpn_count['mean'] = df.groupby('Cocoa Percent - Numerical')['Rating'].mean()\n",
    "cpn_count = cpn_count.sort_index()\n",
    "cpn_count.index = cpn_count.index.map(str)\n",
    "# Plot\n",
    "sns.barplot(x=cpn_count.index, y=cpn_count['count'], ax=axs[0]).set_title('Cocoa Percent - Numerical', fontdict={'size': 15})\n",
    "axs0_1 = axs[0].twinx()\n",
    "axs0_1.axhline(df['Rating'].mean(), color='lightgrey')\n",
    "axs0_1.set_ylim(1,5)\n",
    "sns.lineplot(x=cpn_count.index, y=cpn_count['mean'], ax=axs0_1)\n",
    "axs[0].bar_label(axs[0].containers[0], labels=cpn_count['count'])\n",
    "axs[0].set(xlabel=None)\n",
    "axs[0].set_xticklabels(axs[0].get_xticklabels(), rotation=90);\n",
    "\n",
    "# Cocoa Content - Categories\n",
    "cpc_count = df['Cocoa Percent - Categories'].value_counts().to_frame()\n",
    "cpc_count['mean'] = df.groupby('Cocoa Percent - Categories')['Rating'].mean()\n",
    "cpc_order = ['< 50%', '50-59%', '60-69%', '70-79%', '80-89%', '> 90%']\n",
    "cpc_count = cpc_count.sort_index(key=lambda x: x.map(lambda y: cpc_order.index(y)))\n",
    "# Plot\n",
    "sns.barplot(x=cpc_count.index, y=cpc_count['count'], order=cpc_order, ax=axs[1]).set_title('Cocoa Percent - Categories', fontdict={'size': 15})\n",
    "axs1_1 = axs[1].twinx()\n",
    "axs1_1.axhline(df['Rating'].mean(), color='lightgrey')\n",
    "axs1_1.set_ylim(1,5)\n",
    "sns.lineplot(x=cpc_count.index, y=cpc_count['mean'], marker='o', ax=axs1_1)\n",
    "axs[1].bar_label(axs[1].containers[0], labels=cpc_count['count'])\n",
    "axs[1].set(xlabel=None);"
   ]
  },
  {
   "attachments": {},
   "cell_type": "markdown",
   "metadata": {},
   "source": [
    "### Number of Ingredients"
   ]
  },
  {
   "cell_type": "code",
   "execution_count": null,
   "metadata": {},
   "outputs": [],
   "source": [
    "fig, axs = plt.subplots(figsize=(18, 6), ncols=2)\n",
    "\n",
    "# Number of Ingredients\n",
    "ni_count = df['Number of Ingredients'].value_counts().to_frame()\n",
    "ni_count['mean'] = df.groupby('Number of Ingredients')['Rating'].mean()\n",
    "ni_count = ni_count.sort_index()\n",
    "#print(ni_count)\n",
    "# Plot\n",
    "sns.barplot(x=ni_count.index, y=ni_count['count'], ax=axs[0]).set_title('Number of Ingredients', fontdict={'size': 15})\n",
    "axs0_1 = axs[0].twinx()\n",
    "axs0_1.axhline(df['Rating'].mean(), color='lightgrey')\n",
    "axs0_1.set_ylim(1,5)\n",
    "sns.lineplot(x=ni_count.index, y=ni_count['mean'], marker='o', ax=axs0_1)\n",
    "axs[0].bar_label(axs[0].containers[0], labels=ni_count['count'])\n",
    "\n",
    "# Number of Ingredients - Split by Rating Category\n",
    "ni_rating = df.groupby(['Number of Ingredients', 'Rating Categories'])['Rating Categories'].value_counts().to_frame().reset_index()\n",
    "ni_rating['gr_count'] = ni_rating.groupby('Number of Ingredients')['count'].transform('sum')\n",
    "ni_rating['perc'] = ni_rating['count'] / ni_rating['gr_count']\n",
    "#print(ni_rating.head())\n",
    "# Plot\n",
    "sns.barplot(x=ni_rating['Number of Ingredients'], y=ni_rating['perc'], hue=ni_rating['Rating Categories'], hue_order=rating_cats, ax=axs[1]).set_title('Number of Ingredients - Rating Distribution', fontdict={'size': 15});\n",
    "\n"
   ]
  },
  {
   "attachments": {},
   "cell_type": "markdown",
   "metadata": {},
   "source": [
    "### Type of Ingredients"
   ]
  },
  {
   "cell_type": "code",
   "execution_count": null,
   "metadata": {},
   "outputs": [],
   "source": [
    "# Transform data to produce stacked barplots\n",
    "ingr_ls = []\n",
    "for ingr in unique_ingredients:\n",
    "    ingr_cols = ['Ingredient']\n",
    "    temp_ls = [ingr]\n",
    "    for cont in [True, False]:\n",
    "        temp_df = df[df[f'Ingredient {ingr}'] == cont]\n",
    "        temp_ls.extend([len(temp_df), temp_df['Rating'].mean()])\n",
    "        ingr_cols.extend([f'{cont} - Count', f'{cont} - Mean'])\n",
    "        for rc in rating_cats:\n",
    "            temp_ls.append(len(temp_df[temp_df['Rating Categories'] == rc]) / max(1, len(temp_df)))\n",
    "            ingr_cols.append(f'{cont} - {rc} - Count')\n",
    "    ingr_ls.append(temp_ls)\n",
    "\n",
    "ingrs = pd.DataFrame(ingr_ls, columns=ingr_cols)\n",
    "\n",
    "ingrs_means_only = (pd.concat([ingrs[['Ingredient', 'True - Mean']].rename(columns={'True - Mean' : 'Mean'}), \n",
    "                               ingrs[['Ingredient', 'False - Mean']].rename(columns={'False - Mean' : 'Mean'})],\n",
    "                               ignore_index=True))\n",
    "ingrs_means_only['Contained'] = [True for x in range(len(unique_ingredients))] + [False for x in range(len(unique_ingredients))]\n",
    "\n",
    "ingrs_true_rc_only = ingrs.drop(columns=['True - Count', 'True - Mean', *list(ingrs.filter(regex='False'))])\n",
    "ingrs_true_rc_only.columns = ['Ingredient', *rating_cats]\n",
    "\n",
    "ingrs_false_rc_only = ingrs.drop(columns=['False - Count', 'False - Mean', *list(ingrs.filter(regex='True'))])\n",
    "ingrs_false_rc_only.columns = ['Ingredient', *rating_cats]\n",
    "\n",
    "# Plot\n",
    "fig, axs = plt.subplots(figsize=(18, 6), ncols=3)\n",
    "\n",
    "sns.barplot(x=ingrs['Ingredient'], y=ingrs['True - Count'], ax=axs[0]).set_title('Ingredient Presence', fontdict={'size': 15})\n",
    "axs[0].bar_label(axs[0].containers[0], labels=ingrs['True - Count'])\n",
    "axs0_1 = axs[0].twinx()\n",
    "axs0_1.axhline(df['Rating'].mean(), color='lightgrey')\n",
    "axs0_1.set_ylim(1,5)\n",
    "sns.lineplot(x=ingrs_means_only['Ingredient'], y=ingrs_means_only['Mean'], hue=ingrs_means_only['Contained'], hue_order=[True, False], marker='o', palette = sns.color_palette(\"Set2\", 2), ax=axs0_1)\n",
    "\n",
    "ingrs_true_rc_only.set_index('Ingredient').plot(kind='bar', stacked=True, ax=axs[1]).set_title('Ingredients Present - Rating Distribution', fontdict={'size': 15})\n",
    "ingrs_false_rc_only.set_index('Ingredient').plot(kind='bar', stacked=True, ax=axs[2]).set_title('Ingredients NOT Present - Rating Distribution', fontdict={'size': 15})\n",
    "\n",
    "for i in range(len(axs)):\n",
    "    axs[i].set_xticklabels(axs[i].get_xticklabels(), rotation=0)\n"
   ]
  },
  {
   "attachments": {},
   "cell_type": "markdown",
   "metadata": {},
   "source": [
    "### Most Memorable Characteristics (mentioned or not)"
   ]
  },
  {
   "cell_type": "code",
   "execution_count": null,
   "metadata": {},
   "outputs": [],
   "source": [
    "# Transform data to produce stacked barplots\n",
    "chrc_ls = []\n",
    "for chrc in top_characts:\n",
    "    chrc_cols = ['Characteristic']\n",
    "    temp_ls = [chrc]\n",
    "    for cont in [True, False]:\n",
    "        temp_df = df[df[f'Characteristic - {chrc}'] == cont]\n",
    "        temp_ls.extend([len(temp_df), temp_df['Rating'].mean()])\n",
    "        chrc_cols.extend([f'{cont} - Count', f'{cont} - Mean'])\n",
    "        for rc in rating_cats:\n",
    "            temp_ls.append(len(temp_df[temp_df['Rating Categories'] == rc]) / max(1, len(temp_df)))\n",
    "            chrc_cols.append(f'{cont} - {rc} - Count')\n",
    "    chrc_ls.append(temp_ls)\n",
    "\n",
    "chrcs = pd.DataFrame(chrc_ls, columns=chrc_cols).sort_values(by='True - Count', ascending=False)\n",
    "\n",
    "chrcs_means_only = (pd.concat([chrcs[['Characteristic', 'True - Mean']].rename(columns={'True - Mean' : 'Mean'}), \n",
    "                               chrcs[['Characteristic', 'False - Mean']].rename(columns={'False - Mean' : 'Mean'})],\n",
    "                               ignore_index=True))\n",
    "chrcs_means_only['Mentioned'] = [True for x in range(len(top_characts))] + [False for x in range(len(top_characts))]\n",
    "\n",
    "chrcs_true_rc_only = chrcs.drop(columns=['True - Count', 'True - Mean', *list(chrcs.filter(regex='False'))])\n",
    "chrcs_true_rc_only.columns = ['Characteristic', *rating_cats]\n",
    "\n",
    "# Plot\n",
    "fig, axs = plt.subplots(figsize=(21, 6), ncols=2)\n",
    "\n",
    "sns.barplot(x=chrcs['Characteristic'], y=chrcs['True - Count'], ax=axs[0]).set_title('Characteristic Presence', fontdict={'size': 15})\n",
    "axs[0].bar_label(axs[0].containers[0], labels=chrcs['True - Count'])\n",
    "axs0_1 = axs[0].twinx()\n",
    "axs0_1.axhline(df['Rating'].mean(), color='lightgrey')\n",
    "axs0_1.set_ylim(1,5)\n",
    "sns.lineplot(x=chrcs_means_only['Characteristic'], y=chrcs_means_only['Mean'], hue=chrcs_means_only['Mentioned'], hue_order=[True, False], palette = sns.color_palette(\"Set2\", 2), marker='o', ax=axs0_1)\n",
    "\n",
    "chrcs_true_rc_only.set_index('Characteristic').plot(kind='bar', stacked=True, ax=axs[1]).set_title('Characteristic Mentioned - Rating Distribution', fontdict={'size': 15})\n",
    "\n",
    "for i in range(len(axs)):\n",
    "    axs[i].set_xticklabels(axs[i].get_xticklabels(), rotation=45, horizontalalignment='right')"
   ]
  }
 ],
 "metadata": {
  "kernelspec": {
   "display_name": "Python 3",
   "language": "python",
   "name": "python3"
  },
  "language_info": {
   "codemirror_mode": {
    "name": "ipython",
    "version": 3
   },
   "file_extension": ".py",
   "mimetype": "text/x-python",
   "name": "python",
   "nbconvert_exporter": "python",
   "pygments_lexer": "ipython3",
   "version": "3.11.3"
  },
  "orig_nbformat": 4
 },
 "nbformat": 4,
 "nbformat_minor": 2
}
